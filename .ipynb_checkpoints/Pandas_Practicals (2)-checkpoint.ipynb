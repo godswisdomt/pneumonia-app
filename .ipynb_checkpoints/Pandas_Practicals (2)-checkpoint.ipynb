{
 "cells": [
  {
   "cell_type": "markdown",
   "id": "7556cc3e",
   "metadata": {},
   "source": [
    "# Pandas Hands-on Examples"
   ]
  },
  {
   "cell_type": "code",
   "execution_count": 4,
   "id": "b2d09eb6-41eb-453b-aa88-c7882319e78a",
   "metadata": {},
   "outputs": [],
   "source": [
    "# Pandas Practical Examples\n",
    "import pandas as pd\n",
    "import numpy as np\n",
    "import seaborn as sns\n",
    "import matplotlib.pyplot as plt"
   ]
  },
  {
   "cell_type": "code",
   "execution_count": 5,
   "id": "34c13b7a-094e-4004-b152-6ca3cfd9f9b2",
   "metadata": {},
   "outputs": [],
   "source": [
    "# 1. Creating DataFrames\n",
    "data = {\n",
    "    'Name': ['Alice', 'Bob', 'Charlie', 'David'],\n",
    "    'Age': [25, 30, np.nan, 22],\n",
    "    'Score': [85, 90, 95, None]}"
   ]
  },
  {
   "cell_type": "code",
   "execution_count": 6,
   "id": "58b38b24-5b9c-4947-bb32-7e88b10b1470",
   "metadata": {},
   "outputs": [
    {
     "name": "stdout",
     "output_type": "stream",
     "text": [
      "DataFrame:\n",
      "       Name   Age  Score\n",
      "0    Alice  25.0   85.0\n",
      "1      Bob  30.0   90.0\n",
      "2  Charlie   NaN   95.0\n",
      "3    David  22.0    NaN\n"
     ]
    }
   ],
   "source": [
    "df = pd.DataFrame(data)\n",
    "print(\"DataFrame:\\n\", df)"
   ]
  },
  {
   "cell_type": "code",
   "execution_count": 7,
   "id": "19ad827e-34ea-41dd-b69b-f8ce179b77f2",
   "metadata": {},
   "outputs": [
    {
     "name": "stdout",
     "output_type": "stream",
     "text": [
      "Missing values:\n",
      "     Name    Age  Score\n",
      "0  False  False  False\n",
      "1  False  False  False\n",
      "2  False   True  False\n",
      "3  False  False   True\n"
     ]
    }
   ],
   "source": [
    "# 2. Handling missing data\n",
    "print(\"Missing values:\\n\", df.isnull())\n",
    "\n"
   ]
  },
  {
   "cell_type": "code",
   "execution_count": 8,
   "id": "9b414a61-6504-455f-85e6-e7ddf6651b29",
   "metadata": {},
   "outputs": [
    {
     "name": "stdout",
     "output_type": "stream",
     "text": [
      "Filled DataFrame:\n",
      "       Name        Age  Score\n",
      "0    Alice  25.000000   85.0\n",
      "1      Bob  30.000000   90.0\n",
      "2  Charlie  25.666667   95.0\n",
      "3    David  22.000000   90.0\n"
     ]
    }
   ],
   "source": [
    "df_filled = df.fillna({'Age': df['Age'].mean(), 'Score': df['Score'].mean()})\n",
    "print(\"Filled DataFrame:\\n\", df_filled)"
   ]
  },
  {
   "cell_type": "code",
   "execution_count": null,
   "id": "c105e900-3724-4670-854d-da9bf86fa18b",
   "metadata": {},
   "outputs": [],
   "source": []
  },
  {
   "cell_type": "code",
   "execution_count": 9,
   "id": "51414ec0-32c9-4254-a843-439bddf0ae54",
   "metadata": {},
   "outputs": [
    {
     "name": "stdout",
     "output_type": "stream",
     "text": [
      "Ages > 24:\n",
      "     Name   Age  Score\n",
      "0  Alice  25.0   85.0\n",
      "1    Bob  30.0   90.0\n"
     ]
    }
   ],
   "source": [
    "# 3. Filtering and selection\n",
    "print(\"Ages > 24:\\n\", df[df['Age'] > 24])"
   ]
  },
  {
   "cell_type": "code",
   "execution_count": 10,
   "id": "c1034550-5dc0-41a9-95b6-fae44704d073",
   "metadata": {},
   "outputs": [
    {
     "name": "stdout",
     "output_type": "stream",
     "text": [
      "Grouped by name:\n",
      "          Score\n",
      "Name          \n",
      "Alice     85.0\n",
      "Bob       90.0\n",
      "Charlie   95.0\n",
      "David     90.0\n"
     ]
    }
   ],
   "source": [
    "# 4. Grouping and aggregation\n",
    "grouped = df_filled.groupby('Name').agg({'Score': 'mean'})\n",
    "print(\"Grouped by name:\\n\", grouped)"
   ]
  },
  {
   "cell_type": "raw",
   "id": "91bd76bf-4f0f-445b-9561-2e29f1c5e8cd",
   "metadata": {},
   "source": [
    "🐼 pandas\n",
    "✅ What is pandas?\n",
    "pandas is a data manipulation and analysis library. It provides two core structures:\n",
    "\n",
    "Series – a one-dimensional labeled array\n",
    "\n",
    "DataFrame – a two-dimensional labeled data structure (like a spreadsheet)\n",
    "\n"
   ]
  },
  {
   "cell_type": "code",
   "execution_count": null,
   "id": "1bbcdc80-380b-42f3-bff3-bc67330f17e7",
   "metadata": {},
   "outputs": [],
   "source": []
  },
  {
   "cell_type": "code",
   "execution_count": 12,
   "id": "e0820827-e4ad-4038-a558-3d4cb33e02b6",
   "metadata": {},
   "outputs": [
    {
     "name": "stdout",
     "output_type": "stream",
     "text": [
      "Series:\n",
      " 0    10\n",
      "1    20\n",
      "2    30\n",
      "3    40\n",
      "Name: Numbers, dtype: int64\n",
      "\n",
      "DataFrame:\n",
      "       Name  Age  Score\n",
      "0    Alice   25     90\n",
      "1      Bob   30     85\n",
      "2  Charlie   35     88\n",
      "\n",
      "Names: 0      Alice\n",
      "1        Bob\n",
      "2    Charlie\n",
      "Name: Name, dtype: object\n",
      "\n",
      "Statistics:\n",
      "         Age      Score\n",
      "count   3.0   3.000000\n",
      "mean   30.0  87.666667\n",
      "std     5.0   2.516611\n",
      "min    25.0  85.000000\n",
      "25%    27.5  86.500000\n",
      "50%    30.0  88.000000\n",
      "75%    32.5  89.000000\n",
      "max    35.0  90.000000\n",
      "\n",
      "Ages > 28:\n",
      "       Name  Age  Score\n",
      "1      Bob   30     85\n",
      "2  Charlie   35     88\n",
      "\n",
      "With New Column:\n",
      "       Name  Age  Score  Passed\n",
      "0    Alice   25     90    True\n",
      "1      Bob   30     85   False\n",
      "2  Charlie   35     88    True\n"
     ]
    }
   ],
   "source": [
    "import pandas as pd\n",
    "\n",
    "# Creating a Series\n",
    "s = pd.Series([10, 20, 30, 40], name=\"Numbers\")\n",
    "print(\"Series:\\n\", s)\n",
    "\n",
    "# Creating a DataFrame\n",
    "data = {\n",
    "    'Name': ['Alice', 'Bob', 'Charlie'],\n",
    "    'Age': [25, 30, 35],\n",
    "    'Score': [90, 85, 88]\n",
    "}\n",
    "df = pd.DataFrame(data)\n",
    "print(\"\\nDataFrame:\\n\", df)\n",
    "\n",
    "# Accessing columns\n",
    "print(\"\\nNames:\", df['Name'])\n",
    "\n",
    "# Descriptive statistics\n",
    "print(\"\\nStatistics:\\n\", df.describe())\n",
    "\n",
    "# Filtering\n",
    "print(\"\\nAges > 28:\\n\", df[df['Age'] > 28])\n",
    "\n",
    "# Adding a new column\n",
    "df['Passed'] = df['Score'] > 85\n",
    "print(\"\\nWith New Column:\\n\", df)\n",
    "\n",
    "# Reading from CSV (assume file.csv exists)\n",
    "# df = pd.read_csv('file.csv')\n",
    "\n",
    "# Writing to CSV\n",
    "# df.to_csv('new_file.csv', index=False)\n"
   ]
  },
  {
   "cell_type": "code",
   "execution_count": null,
   "id": "ddd799dd-17a7-4897-9932-e39a2755568f",
   "metadata": {},
   "outputs": [],
   "source": []
  },
  {
   "cell_type": "code",
   "execution_count": null,
   "id": "46099494-76d8-4f2d-9412-a7ba10bda8cb",
   "metadata": {},
   "outputs": [],
   "source": []
  },
  {
   "cell_type": "code",
   "execution_count": null,
   "id": "5e67a3bd-8d30-4acc-83a6-bafa251a0f25",
   "metadata": {},
   "outputs": [],
   "source": []
  },
  {
   "cell_type": "code",
   "execution_count": null,
   "id": "7c592a38-b180-49e8-8300-d727ff3c164c",
   "metadata": {},
   "outputs": [],
   "source": []
  },
  {
   "cell_type": "code",
   "execution_count": null,
   "id": "638bf693-f9f1-4371-8d5b-f44a7c073f38",
   "metadata": {},
   "outputs": [],
   "source": []
  },
  {
   "cell_type": "code",
   "execution_count": null,
   "id": "c5bd3d05-0c0b-4a44-bb04-4da9d26c8461",
   "metadata": {},
   "outputs": [],
   "source": []
  },
  {
   "cell_type": "code",
   "execution_count": null,
   "id": "e92def70-9235-4d0b-9c8a-bc614f56feb0",
   "metadata": {},
   "outputs": [],
   "source": []
  },
  {
   "cell_type": "code",
   "execution_count": null,
   "id": "d0389345-ca1a-4648-b047-4850b4605539",
   "metadata": {},
   "outputs": [],
   "source": []
  }
 ],
 "metadata": {
  "kernelspec": {
   "display_name": "Python 3 (ipykernel)",
   "language": "python",
   "name": "python3"
  },
  "language_info": {
   "codemirror_mode": {
    "name": "ipython",
    "version": 3
   },
   "file_extension": ".py",
   "mimetype": "text/x-python",
   "name": "python",
   "nbconvert_exporter": "python",
   "pygments_lexer": "ipython3",
   "version": "3.12.3"
  }
 },
 "nbformat": 4,
 "nbformat_minor": 5
}
